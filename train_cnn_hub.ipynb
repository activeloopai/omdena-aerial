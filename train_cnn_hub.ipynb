{
  "nbformat": 4,
  "nbformat_minor": 0,
  "metadata": {
    "colab": {
      "name": "train-cnn-hub.ipynb",
      "provenance": [],
      "collapsed_sections": []
    },
    "kernelspec": {
      "name": "python3",
      "display_name": "Python 3"
    },
    "accelerator": "GPU"
  },
  "cells": [
    {
      "cell_type": "code",
      "metadata": {
        "id": "d1TlgVaFnT7O",
        "colab_type": "code",
        "colab": {}
      },
      "source": [
        "!pip install hub"
      ],
      "execution_count": null,
      "outputs": []
    },
    {
      "cell_type": "code",
      "metadata": {
        "id": "1bM21Yamw9sg",
        "colab_type": "code",
        "colab": {}
      },
      "source": [
        "# In case you haven't registered before on hub before. Run this cell\n",
        "!hub register"
      ],
      "execution_count": null,
      "outputs": []
    },
    {
      "cell_type": "code",
      "metadata": {
        "id": "x90Sgs8diIUZ",
        "colab_type": "code",
        "colab": {}
      },
      "source": [
        "!hub login"
      ],
      "execution_count": null,
      "outputs": []
    },
    {
      "cell_type": "code",
      "metadata": {
        "id": "NW0D90xjhjTS",
        "colab_type": "code",
        "colab": {}
      },
      "source": [
        "import os\n",
        "import shutil\n",
        "import numpy as np\n",
        "import pandas as pd\n",
        "from tqdm.notebook import tqdm"
      ],
      "execution_count": null,
      "outputs": []
    },
    {
      "cell_type": "code",
      "metadata": {
        "id": "MxcrZ5OXioRc",
        "colab_type": "code",
        "colab": {}
      },
      "source": [
        "BASE_DIR = '.'\n",
        "RANDOM_SEED = 7 # for reproducibility\n",
        "\n",
        "CNN_SAVE_DIR = os.path.join(BASE_DIR, 'models')\n",
        "os.makedirs(CNN_SAVE_DIR, exist_ok=True)"
      ],
      "execution_count": null,
      "outputs": []
    },
    {
      "cell_type": "code",
      "metadata": {
        "id": "eC5p-vKJjFhB",
        "colab_type": "code",
        "colab": {}
      },
      "source": [
        "import torch\n",
        "import torch.nn as nn\n",
        "import torch.optim as optim\n",
        "import numpy as np\n",
        "import torchvision\n",
        "from torchvision import datasets, models, transforms\n",
        "import matplotlib.pyplot as plt\n",
        "import time\n",
        "import os\n",
        "import copy"
      ],
      "execution_count": 9,
      "outputs": []
    },
    {
      "cell_type": "code",
      "metadata": {
        "id": "VcxgharKjTia",
        "colab_type": "code",
        "colab": {}
      },
      "source": [
        "# Models to choose from [resnet, alexnet, vgg, squeezenet, densenet, inception]\n",
        "model_name = \"vgg\"\n",
        "\n",
        "# Number of classes in the dataset\n",
        "num_classes = 3\n",
        "\n",
        "# Batch size for training (change depending on how much memory you have)\n",
        "batch_size = 8\n",
        "\n",
        "# Number of epochs to train for, first 10 will be training the new layers, last 10 the whole model\n",
        "num_epochs = 20\n",
        "\n",
        "# Flag for feature extracting. When False, we finetune the whole model,\n",
        "#   when True we only update the reshaped layer params\n",
        "feature_extract = True"
      ],
      "execution_count": null,
      "outputs": []
    },
    {
      "cell_type": "code",
      "metadata": {
        "id": "G5TDxy9QjeA8",
        "colab_type": "code",
        "colab": {}
      },
      "source": [
        "def initialize_model(model_name, num_classes, feature_extract, use_pretrained=True):\n",
        "    # Initialize these variables which will be set in this if statement. Each of these\n",
        "    #   variables is model specific.\n",
        "    model_ft = models.vgg11_bn(pretrained=use_pretrained)\n",
        "    set_parameter_requires_grad(model_ft, feature_extract)\n",
        "    num_ftrs = model_ft.classifier[6].in_features\n",
        "    model_ft.classifier[6] = nn.Linear(num_ftrs,num_classes)\n",
        "    input_size = 224\n",
        "    return model_ft, input_size\n",
        "\n",
        "def set_parameter_requires_grad(model, feature_extracting):\n",
        "    if feature_extracting:\n",
        "        for param in model.parameters():\n",
        "            param.requires_grad = False"
      ],
      "execution_count": null,
      "outputs": []
    },
    {
      "cell_type": "code",
      "metadata": {
        "id": "aeUrX4s7jkUO",
        "colab_type": "code",
        "colab": {}
      },
      "source": [
        "# Initialize the model for this run\n",
        "model_ft, input_size = initialize_model(model_name, num_classes, feature_extract, use_pretrained=True)\n",
        "\n",
        "# Print the model we just instantiated\n",
        "model_ft"
      ],
      "execution_count": null,
      "outputs": []
    },
    {
      "cell_type": "code",
      "metadata": {
        "id": "A0cVKKNEjzqy",
        "colab_type": "code",
        "colab": {}
      },
      "source": [
        "# you can modify the classifier part of the model by doing this\n",
        "# model_ft.classifier = nn.Sequential(\n",
        "#     nn.Linear(in_features=25088, out_features=4096, bias=True),\n",
        "#     nn.ReLU(inplace=True),\n",
        "#     nn.Dropout(p=0.5),\n",
        "#     nn.Linear(in_features=4096, out_features=256, bias=True),\n",
        "#     nn.ReLU(inplace=True),\n",
        "#     nn.Dropout(p=0.5),\n",
        "#     nn.Linear(in_features=256, out_features=3, bias=True),\n",
        "# )"
      ],
      "execution_count": null,
      "outputs": []
    },
    {
      "cell_type": "code",
      "metadata": {
        "id": "2hxYfSrTw0Se",
        "colab_type": "code",
        "colab": {}
      },
      "source": [
        "from hub import Transform, dataset"
      ],
      "execution_count": null,
      "outputs": []
    },
    {
      "cell_type": "code",
      "metadata": {
        "id": "98R0GbakxLVG",
        "colab_type": "code",
        "colab": {}
      },
      "source": [
        "data_transforms_train = transforms.Compose([\n",
        "    transforms.ToPILImage(),\n",
        "    transforms.RandomResizedCrop(input_size),\n",
        "    transforms.RandomHorizontalFlip(),\n",
        "    transforms.ToTensor(),\n",
        "    transforms.Normalize([0.485, 0.456, 0.406], [0.229, 0.224, 0.225])\n",
        "])\n",
        "\n",
        "data_transforms_val=transforms.Compose([\n",
        "    transforms.ToPILImage(),\n",
        "    transforms.Resize(input_size),\n",
        "    transforms.CenterCrop(input_size),\n",
        "    transforms.ToTensor(),\n",
        "    transforms.Normalize([0.485, 0.456, 0.406], [0.229, 0.224, 0.225])\n",
        "])"
      ],
      "execution_count": null,
      "outputs": []
    },
    {
      "cell_type": "code",
      "metadata": {
        "id": "IRBXR7eRJWiQ",
        "colab_type": "code",
        "colab": {}
      },
      "source": [
        "# these are hub transformations applied to the dataset. Read more here https://docs.activeloop.ai/en/latest/concepts/transform.html\n",
        "class TrainTransformer(Transform):\n",
        "    def meta(self):\n",
        "        return {\n",
        "            \"nightlights_bin\": {\"shape\": (1,), \"dtype\": \"int\", \"dtag\" : \"text\"},\n",
        "            \"image\": {\"shape\": (1,), \"dtype\": \"object\", \"chunksize\": 100, \"dtag\" : \"image\"},\n",
        "        }\n",
        "\n",
        "    def forward(self, input):\n",
        "        ds = {}\n",
        "        ds[\"nightlights_bin\"] = np.empty(1, dtype=\"int\")\n",
        "        ds[\"nightlights_bin\"][0] = input[\"nightlights_bin\"]\n",
        "\n",
        "        ds[\"image\"] = np.empty(1, object)\n",
        "        ds[\"image\"][0] = data_transforms_train(input[\"image\"])\n",
        "        return ds\n",
        "\n",
        "class ValTransformer(Transform):\n",
        "    def meta(self):\n",
        "        return {\n",
        "            \"nightlights_bin\": {\"shape\": (1,), \"dtype\": \"int\", \"dtag\" : \"text\"},\n",
        "            \"image\": {\"shape\": (1,), \"dtype\": \"object\", \"chunksize\": 100, \"dtag\" : \"image\"},\n",
        "        }\n",
        "\n",
        "    def forward(self, input):\n",
        "        ds = {}\n",
        "        ds[\"nightlights_bin\"] = np.empty(1, dtype=\"int\")\n",
        "        ds[\"nightlights_bin\"][0] = input[\"nightlights_bin\"]\n",
        "\n",
        "        ds[\"image\"] = np.empty(1, object)\n",
        "        ds[\"image\"][0] = data_transforms_val(input[\"image\"])\n",
        "        return ds\n",
        "    \n",
        "# converts the dataset from dictionary to pair, as required by the model\n",
        "def to_pair(input):\n",
        "    sample=input[\"image\"]\n",
        "    target=input[\"nightlights_bin\"]\n",
        "    return (sample,target)"
      ],
      "execution_count": null,
      "outputs": []
    },
    {
      "cell_type": "code",
      "metadata": {
        "id": "1I7dI_JRlwZw",
        "colab_type": "code",
        "colab": {}
      },
      "source": [
        "# Load data\n",
        "ds = dataset.load(\"omdena/predicting-poverty-replication-full\")\n",
        "\n",
        "# Splitting back into the original train and test sets\n",
        "val_ds = ds[0:7393]\n",
        "train_ds = ds[7393:]\n",
        "\n",
        "# Applying the tranformation\n",
        "val_ds = dataset.generate(ValTransformer(),val_ds)\n",
        "train_ds = dataset.generate(TrainTransformer(),train_ds)\n",
        "\n",
        "# converting the dataset to pytorch tensors, using to_pair to convert the data from dict to pair\n",
        "val_ds = val_ds.to_pytorch(to_pair)\n",
        "train_ds = train_ds.to_pytorch(to_pair)\n",
        "\n",
        "val_loader = torch.utils.data.DataLoader(val_ds, batch_size=8,shuffle=True)\n",
        "train_loader = torch.utils.data.DataLoader(train_ds, batch_size=8,shuffle=True)\n",
        "\n",
        "dataloaders_dict={\"train\":train_loader,\"valid\":val_loader}\n",
        "\n",
        "# Detect if we have a GPU available\n",
        "device = torch.device(\"cuda:0\" if torch.cuda.is_available() else \"cpu\")\n",
        "print('device:', device)"
      ],
      "execution_count": null,
      "outputs": []
    },
    {
      "cell_type": "code",
      "metadata": {
        "id": "bO12s_Ukl-Mg",
        "colab_type": "code",
        "colab": {
          "base_uri": "https://localhost:8080/",
          "height": 68
        },
        "outputId": "f1f66c18-7d6d-416e-931b-5fbf1d473df4"
      },
      "source": [
        "# Send the model to GPU\n",
        "model_ft = model_ft.to(device)\n",
        "\n",
        "# Gather the parameters to be optimized/updated in this run. If we are\n",
        "#  finetuning we will be updating all parameters. However, if we are\n",
        "#  doing feature extract method, we will only update the parameters\n",
        "#  that we have just initialized, i.e. the parameters with requires_grad\n",
        "#  is True.\n",
        "params_to_update = model_ft.parameters()\n",
        "print(\"Params to learn:\")\n",
        "if feature_extract:\n",
        "    params_to_update = []\n",
        "    for name,param in model_ft.named_parameters():\n",
        "        if param.requires_grad == True:\n",
        "            params_to_update.append(param)\n",
        "            print(\"\\t\",name)\n",
        "else:\n",
        "    for name,param in model_ft.named_parameters():\n",
        "        if param.requires_grad == True:\n",
        "            print(\"\\t\",name)\n",
        "\n",
        "# Observe that all parameters are being optimized\n",
        "optimizer_ft = optim.SGD(params_to_update, lr=1e-4, momentum=0.9)"
      ],
      "execution_count": null,
      "outputs": [
        {
          "output_type": "stream",
          "text": [
            "Params to learn:\n",
            "\t classifier.6.weight\n",
            "\t classifier.6.bias\n"
          ],
          "name": "stdout"
        }
      ]
    },
    {
      "cell_type": "code",
      "metadata": {
        "id": "BZEEBdwPmGbK",
        "colab_type": "code",
        "colab": {}
      },
      "source": [
        "def train_model(model, dataloaders, criterion, optimizer, num_epochs=25):\n",
        "    since = time.time()\n",
        "\n",
        "    val_acc_history = []\n",
        "    \n",
        "    best_model_wts = copy.deepcopy(model.state_dict())\n",
        "    best_acc = 0.0\n",
        "    \n",
        "    for epoch in range(num_epochs):\n",
        "        print('Epoch {}/{}'.format(epoch, num_epochs - 1))\n",
        "        print('-' * 10)\n",
        "        if epoch > 10:\n",
        "            # fine tune whole model\n",
        "            for param in model_ft.parameters():\n",
        "                param.requires_grad = True\n",
        "            optimizer = optim.SGD(model_ft.parameters(), lr=1e-4, momentum=0.9)\n",
        "\n",
        "        # Each epoch has a training and validation phase\n",
        "        for phase in ['train', 'valid']:\n",
        "            if phase == 'train':\n",
        "                model.train()  # Set model to training mode\n",
        "            else:\n",
        "                model.eval()   # Set model to evaluate mode\n",
        "\n",
        "            running_loss = 0.0\n",
        "            running_corrects = 0\n",
        "\n",
        "            # Iterate over data.\n",
        "            for inputs, labels in tqdm(dataloaders[phase]):\n",
        "                inputs = inputs.to(device)\n",
        "                labels = labels.to(device)\n",
        "\n",
        "                # zero the parameter gradients\n",
        "                optimizer.zero_grad()\n",
        "\n",
        "                # forward\n",
        "                # track history if only in train\n",
        "                with torch.set_grad_enabled(phase == 'train'):\n",
        "                    outputs = model(inputs)\n",
        "                    loss = criterion(outputs, labels)\n",
        "\n",
        "                    _, preds = torch.max(outputs, 1)\n",
        "\n",
        "                    # backward + optimize only if in training phase\n",
        "                    if phase == 'train':\n",
        "                        loss.backward()\n",
        "                        optimizer.step()\n",
        "\n",
        "                # statistics\n",
        "                running_loss += loss.item() * inputs.size(0)\n",
        "                running_corrects += torch.sum(preds == labels.data)\n",
        "\n",
        "            epoch_loss = running_loss / len(dataloaders[phase].dataset)\n",
        "            epoch_acc = running_corrects.double() / len(dataloaders[phase].dataset)\n",
        "\n",
        "            print('{} Loss: {:.4f} Acc: {:.4f}'.format(phase, epoch_loss, epoch_acc))\n",
        "\n",
        "            # deep copy the model\n",
        "            if phase == 'valid' and epoch_acc > best_acc:\n",
        "                best_acc = epoch_acc\n",
        "                best_model_wts = copy.deepcopy(model.state_dict())\n",
        "            if phase == 'valid':\n",
        "                val_acc_history.append(epoch_acc)\n",
        "                \n",
        "        print()\n",
        "\n",
        "    time_elapsed = time.time() - since\n",
        "    print('Training complete in {:.0f}m {:.0f}s'.format(time_elapsed // 60, time_elapsed % 60))\n",
        "    print('Best val Acc: {:4f}'.format(best_acc))\n",
        "\n",
        "    # load best model weights\n",
        "    model.load_state_dict(best_model_wts)\n",
        "    return model, val_acc_history"
      ],
      "execution_count": null,
      "outputs": []
    },
    {
      "cell_type": "code",
      "metadata": {
        "id": "SRXfkdrJmb6n",
        "colab_type": "code",
        "colab": {}
      },
      "source": [
        "# Setup the loss fxn\n",
        "criterion = nn.CrossEntropyLoss()\n",
        "\n",
        "# Train and evaluate\n",
        "model_ft, hist = train_model(model_ft, dataloaders_dict, criterion, optimizer_ft, num_epochs=num_epochs)"
      ],
      "execution_count": null,
      "outputs": []
    },
    {
      "cell_type": "code",
      "metadata": {
        "id": "T4pKuSkxmjph",
        "colab_type": "code",
        "colab": {}
      },
      "source": [
        "path = os.path.join(CNN_SAVE_DIR, 'trained_model.pt')\n",
        "assert not os.path.isfile(path), print('A model is already saved at this location')\n",
        "print(f'Saving model to {path}')\n",
        "torch.save(model_ft, path)"
      ],
      "execution_count": null,
      "outputs": []
    },
    {
      "cell_type": "code",
      "metadata": {
        "id": "NSdoVHCjm-5q",
        "colab_type": "code",
        "colab": {}
      },
      "source": [
        "# you can run below if you want to see the final accuracy on nightlights over the train set\n",
        "model_ft.eval()   # Set model to evaluate mode\n",
        "\n",
        "criterion = nn.CrossEntropyLoss()\n",
        "running_loss = 0.0\n",
        "running_corrects = 0\n",
        "total = 0\n",
        "\n",
        "# Iterate over data.\n",
        "for inputs, labels in tqdm(dataloaders_dict['train']):\n",
        "    inputs = inputs.to(device)\n",
        "    labels = labels.to(device)\n",
        "\n",
        "    # forward\n",
        "    # track history if only in train\n",
        "    with torch.set_grad_enabled(False):\n",
        "        outputs = model_ft(inputs)\n",
        "        loss = criterion(outputs, labels)\n",
        "\n",
        "        _, preds = torch.max(outputs, 1)\n",
        "\n",
        "    # statistics\n",
        "    running_loss += loss.item() * inputs.size(0)\n",
        "    running_corrects += torch.sum(preds == labels.data)\n",
        "\n",
        "    total += len(preds)\n",
        "        \n",
        "print(running_corrects.double()/total)"
      ],
      "execution_count": null,
      "outputs": []
    },
    {
      "cell_type": "code",
      "metadata": {
        "id": "7PExKPJiM8xg",
        "colab_type": "code",
        "colab": {}
      },
      "source": [
        ""
      ],
      "execution_count": null,
      "outputs": []
    }
  ]
}